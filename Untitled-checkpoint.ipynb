{
 "cells": [
  {
   "cell_type": "raw",
   "id": "ab77645f-77b6-47e5-8234-a789a26c9314",
   "metadata": {},
   "source": [
    "🧠 Project Overview (What You're Doing):\n",
    "You’re analyzing a real dataset of student exam scores in Math, Reading, and Writing. You'll explore how various factors like gender, parental education, lunch type, and test preparation influence those scores."
   ]
  },
  {
   "cell_type": "raw",
   "id": "0b7e65e2-49f2-46ad-8483-d2f1521806b6",
   "metadata": {},
   "source": [
    "🎯 Learning Goals (What You'll Learn):\n",
    "\n",
    ">How to load real-world data using Python\n",
    ">How to explore and summarize datasets\n",
    ">How to visualize data using plots and graphs\n",
    ">How to find patterns or relationships between variables\n",
    ">How to present your analysis in a clean, understandable format"
   ]
  },
  {
   "cell_type": "raw",
   "id": "3f71c759-5392-4ec4-832d-afe03da91d13",
   "metadata": {},
   "source": [
    "🧰 Tools & Technologies Required\n",
    "\n",
    ">Python\n",
    ">Jupyter Notebook or Google Colab\n",
    ">Libraries:\n",
    " pandas (for data handling)\n",
    " matplotlib and seaborn (for data visualization)\n",
    ">GitHub (for project submission)"
   ]
  },
  {
   "cell_type": "raw",
   "id": "1839da56-6744-49af-9890-54da3b3bc7f8",
   "metadata": {},
   "source": [
    "📁 Dataset Info:\n",
    "\n",
    ">Dataset:StudentsPerformance.csv\n",
    ">Columns to analyze:\n",
    "   gender\n",
    "   parental level of education\n",
    "   lunch\n",
    "   test preparation course\n",
    "   math score, reading score, writing score"
   ]
  },
  {
   "cell_type": "raw",
   "id": "44caa4d9-2d76-4c2b-99b0-229be5312792",
   "metadata": {},
   "source": [
    "✅ Step 1: Load the Dataset:"
   ]
  },
  {
   "cell_type": "code",
   "execution_count": 2,
   "id": "793e5c01-c426-473e-9f4a-a10f233a140c",
   "metadata": {},
   "outputs": [
    {
     "data": {
      "text/html": [
       "<div>\n",
       "<style scoped>\n",
       "    .dataframe tbody tr th:only-of-type {\n",
       "        vertical-align: middle;\n",
       "    }\n",
       "\n",
       "    .dataframe tbody tr th {\n",
       "        vertical-align: top;\n",
       "    }\n",
       "\n",
       "    .dataframe thead th {\n",
       "        text-align: right;\n",
       "    }\n",
       "</style>\n",
       "<table border=\"1\" class=\"dataframe\">\n",
       "  <thead>\n",
       "    <tr style=\"text-align: right;\">\n",
       "      <th></th>\n",
       "      <th>gender</th>\n",
       "      <th>race/ethnicity</th>\n",
       "      <th>parental level of education</th>\n",
       "      <th>lunch</th>\n",
       "      <th>test preparation course</th>\n",
       "      <th>math score</th>\n",
       "      <th>reading score</th>\n",
       "      <th>writing score</th>\n",
       "    </tr>\n",
       "  </thead>\n",
       "  <tbody>\n",
       "    <tr>\n",
       "      <th>0</th>\n",
       "      <td>female</td>\n",
       "      <td>group B</td>\n",
       "      <td>bachelor's degree</td>\n",
       "      <td>standard</td>\n",
       "      <td>none</td>\n",
       "      <td>72</td>\n",
       "      <td>72</td>\n",
       "      <td>74</td>\n",
       "    </tr>\n",
       "    <tr>\n",
       "      <th>1</th>\n",
       "      <td>female</td>\n",
       "      <td>group C</td>\n",
       "      <td>some college</td>\n",
       "      <td>standard</td>\n",
       "      <td>completed</td>\n",
       "      <td>69</td>\n",
       "      <td>90</td>\n",
       "      <td>88</td>\n",
       "    </tr>\n",
       "    <tr>\n",
       "      <th>2</th>\n",
       "      <td>female</td>\n",
       "      <td>group B</td>\n",
       "      <td>master's degree</td>\n",
       "      <td>standard</td>\n",
       "      <td>none</td>\n",
       "      <td>90</td>\n",
       "      <td>95</td>\n",
       "      <td>93</td>\n",
       "    </tr>\n",
       "    <tr>\n",
       "      <th>3</th>\n",
       "      <td>male</td>\n",
       "      <td>group A</td>\n",
       "      <td>associate's degree</td>\n",
       "      <td>free/reduced</td>\n",
       "      <td>none</td>\n",
       "      <td>47</td>\n",
       "      <td>57</td>\n",
       "      <td>44</td>\n",
       "    </tr>\n",
       "    <tr>\n",
       "      <th>4</th>\n",
       "      <td>male</td>\n",
       "      <td>group C</td>\n",
       "      <td>some college</td>\n",
       "      <td>standard</td>\n",
       "      <td>none</td>\n",
       "      <td>76</td>\n",
       "      <td>78</td>\n",
       "      <td>75</td>\n",
       "    </tr>\n",
       "  </tbody>\n",
       "</table>\n",
       "</div>"
      ],
      "text/plain": [
       "   gender race/ethnicity parental level of education         lunch  \\\n",
       "0  female        group B           bachelor's degree      standard   \n",
       "1  female        group C                some college      standard   \n",
       "2  female        group B             master's degree      standard   \n",
       "3    male        group A          associate's degree  free/reduced   \n",
       "4    male        group C                some college      standard   \n",
       "\n",
       "  test preparation course  math score  reading score  writing score  \n",
       "0                    none          72             72             74  \n",
       "1               completed          69             90             88  \n",
       "2                    none          90             95             93  \n",
       "3                    none          47             57             44  \n",
       "4                    none          76             78             75  "
      ]
     },
     "execution_count": 2,
     "metadata": {},
     "output_type": "execute_result"
    }
   ],
   "source": [
    "import pandas as pd\n",
    "\n",
    "df = pd.read_csv('StudentsPerformance.csv')\n",
    "df.head()"
   ]
  },
  {
   "cell_type": "raw",
   "id": "fc16e176-278a-443d-a7a4-4b07de4277dd",
   "metadata": {},
   "source": [
    "📝 Tip: df.head() shows the first 5 rows to check if data is loaded."
   ]
  },
  {
   "cell_type": "raw",
   "id": "9a640844-21da-41a2-80d3-d1e1269446e7",
   "metadata": {},
   "source": [
    "🔍 Step 2: Explore the Data:"
   ]
  },
  {
   "cell_type": "code",
   "execution_count": 3,
   "id": "ff16d2aa-b995-4c3b-81c4-e8ddf428b85d",
   "metadata": {},
   "outputs": [
    {
     "name": "stdout",
     "output_type": "stream",
     "text": [
      "<class 'pandas.core.frame.DataFrame'>\n",
      "RangeIndex: 1000 entries, 0 to 999\n",
      "Data columns (total 8 columns):\n",
      " #   Column                       Non-Null Count  Dtype \n",
      "---  ------                       --------------  ----- \n",
      " 0   gender                       1000 non-null   object\n",
      " 1   race/ethnicity               1000 non-null   object\n",
      " 2   parental level of education  1000 non-null   object\n",
      " 3   lunch                        1000 non-null   object\n",
      " 4   test preparation course      1000 non-null   object\n",
      " 5   math score                   1000 non-null   int64 \n",
      " 6   reading score                1000 non-null   int64 \n",
      " 7   writing score                1000 non-null   int64 \n",
      "dtypes: int64(3), object(5)\n",
      "memory usage: 62.6+ KB\n"
     ]
    },
    {
     "data": {
      "text/html": [
       "<div>\n",
       "<style scoped>\n",
       "    .dataframe tbody tr th:only-of-type {\n",
       "        vertical-align: middle;\n",
       "    }\n",
       "\n",
       "    .dataframe tbody tr th {\n",
       "        vertical-align: top;\n",
       "    }\n",
       "\n",
       "    .dataframe thead th {\n",
       "        text-align: right;\n",
       "    }\n",
       "</style>\n",
       "<table border=\"1\" class=\"dataframe\">\n",
       "  <thead>\n",
       "    <tr style=\"text-align: right;\">\n",
       "      <th></th>\n",
       "      <th>math score</th>\n",
       "      <th>reading score</th>\n",
       "      <th>writing score</th>\n",
       "    </tr>\n",
       "  </thead>\n",
       "  <tbody>\n",
       "    <tr>\n",
       "      <th>count</th>\n",
       "      <td>1000.00000</td>\n",
       "      <td>1000.000000</td>\n",
       "      <td>1000.000000</td>\n",
       "    </tr>\n",
       "    <tr>\n",
       "      <th>mean</th>\n",
       "      <td>66.08900</td>\n",
       "      <td>69.169000</td>\n",
       "      <td>68.054000</td>\n",
       "    </tr>\n",
       "    <tr>\n",
       "      <th>std</th>\n",
       "      <td>15.16308</td>\n",
       "      <td>14.600192</td>\n",
       "      <td>15.195657</td>\n",
       "    </tr>\n",
       "    <tr>\n",
       "      <th>min</th>\n",
       "      <td>0.00000</td>\n",
       "      <td>17.000000</td>\n",
       "      <td>10.000000</td>\n",
       "    </tr>\n",
       "    <tr>\n",
       "      <th>25%</th>\n",
       "      <td>57.00000</td>\n",
       "      <td>59.000000</td>\n",
       "      <td>57.750000</td>\n",
       "    </tr>\n",
       "    <tr>\n",
       "      <th>50%</th>\n",
       "      <td>66.00000</td>\n",
       "      <td>70.000000</td>\n",
       "      <td>69.000000</td>\n",
       "    </tr>\n",
       "    <tr>\n",
       "      <th>75%</th>\n",
       "      <td>77.00000</td>\n",
       "      <td>79.000000</td>\n",
       "      <td>79.000000</td>\n",
       "    </tr>\n",
       "    <tr>\n",
       "      <th>max</th>\n",
       "      <td>100.00000</td>\n",
       "      <td>100.000000</td>\n",
       "      <td>100.000000</td>\n",
       "    </tr>\n",
       "  </tbody>\n",
       "</table>\n",
       "</div>"
      ],
      "text/plain": [
       "       math score  reading score  writing score\n",
       "count  1000.00000    1000.000000    1000.000000\n",
       "mean     66.08900      69.169000      68.054000\n",
       "std      15.16308      14.600192      15.195657\n",
       "min       0.00000      17.000000      10.000000\n",
       "25%      57.00000      59.000000      57.750000\n",
       "50%      66.00000      70.000000      69.000000\n",
       "75%      77.00000      79.000000      79.000000\n",
       "max     100.00000     100.000000     100.000000"
      ]
     },
     "execution_count": 3,
     "metadata": {},
     "output_type": "execute_result"
    }
   ],
   "source": [
    "df.info()       # Info about data types and nulls\n",
    "df.describe()   # Summary statistics for numeric columns"
   ]
  },
  {
   "cell_type": "raw",
   "id": "dfbcd686-7af8-458b-adfd-7e068a29e818",
   "metadata": {},
   "source": [
    "📝 Look for: column names, data types, min/max values, etc."
   ]
  },
  {
   "cell_type": "raw",
   "id": "9b265f97-2c55-46ba-9caa-b896636dd23f",
   "metadata": {},
   "source": [
    "❗ Step 3: Check for Missing Values:"
   ]
  },
  {
   "cell_type": "code",
   "execution_count": 4,
   "id": "23e227cf-0165-41ca-8b58-900cb6b3366c",
   "metadata": {},
   "outputs": [
    {
     "data": {
      "text/plain": [
       "gender                         0\n",
       "race/ethnicity                 0\n",
       "parental level of education    0\n",
       "lunch                          0\n",
       "test preparation course        0\n",
       "math score                     0\n",
       "reading score                  0\n",
       "writing score                  0\n",
       "dtype: int64"
      ]
     },
     "execution_count": 4,
     "metadata": {},
     "output_type": "execute_result"
    }
   ],
   "source": [
    "df.isnull().sum()"
   ]
  },
  {
   "cell_type": "raw",
   "id": "a45266d6-767c-4d52-b5c3-7b142fabd761",
   "metadata": {},
   "source": [
    "📝 Tip: Even if the dataset looks clean, confirm there's no missing data."
   ]
  },
  {
   "cell_type": "raw",
   "id": "4c8b690f-bd1b-4299-afe7-89dc05d21d91",
   "metadata": {},
   "source": [
    "📊 Step 4: Analyze Score Patterns:"
   ]
  },
  {
   "cell_type": "code",
   "execution_count": 5,
   "id": "06fbd11e-a6de-4522-8771-3f6a12d79700",
   "metadata": {},
   "outputs": [
    {
     "data": {
      "text/html": [
       "<div>\n",
       "<style scoped>\n",
       "    .dataframe tbody tr th:only-of-type {\n",
       "        vertical-align: middle;\n",
       "    }\n",
       "\n",
       "    .dataframe tbody tr th {\n",
       "        vertical-align: top;\n",
       "    }\n",
       "\n",
       "    .dataframe thead th {\n",
       "        text-align: right;\n",
       "    }\n",
       "</style>\n",
       "<table border=\"1\" class=\"dataframe\">\n",
       "  <thead>\n",
       "    <tr style=\"text-align: right;\">\n",
       "      <th></th>\n",
       "      <th>math score</th>\n",
       "      <th>reading score</th>\n",
       "      <th>writing score</th>\n",
       "    </tr>\n",
       "    <tr>\n",
       "      <th>test preparation course</th>\n",
       "      <th></th>\n",
       "      <th></th>\n",
       "      <th></th>\n",
       "    </tr>\n",
       "  </thead>\n",
       "  <tbody>\n",
       "    <tr>\n",
       "      <th>completed</th>\n",
       "      <td>69.695531</td>\n",
       "      <td>73.893855</td>\n",
       "      <td>74.418994</td>\n",
       "    </tr>\n",
       "    <tr>\n",
       "      <th>none</th>\n",
       "      <td>64.077882</td>\n",
       "      <td>66.534268</td>\n",
       "      <td>64.504673</td>\n",
       "    </tr>\n",
       "  </tbody>\n",
       "</table>\n",
       "</div>"
      ],
      "text/plain": [
       "                         math score  reading score  writing score\n",
       "test preparation course                                          \n",
       "completed                 69.695531      73.893855      74.418994\n",
       "none                      64.077882      66.534268      64.504673"
      ]
     },
     "execution_count": 5,
     "metadata": {},
     "output_type": "execute_result"
    }
   ],
   "source": [
    "df.groupby('gender')[['math score', 'reading score', 'writing score']].mean()\n",
    "df.groupby('lunch')[['math score', 'reading score', 'writing score']].mean()\n",
    "df.groupby('test preparation course')[['math score', 'reading score', 'writing score']].mean()"
   ]
  },
  {
   "cell_type": "raw",
   "id": "71673319-cbfe-4fab-ba0f-f5268eaefdfb",
   "metadata": {},
   "source": [
    "📝 Tip: Compare average scores across different categories."
   ]
  },
  {
   "cell_type": "raw",
   "id": "97ec6a1d-58fa-46a8-80f4-3296a5caa151",
   "metadata": {},
   "source": [
    "📈 Step 5: Visualize the Data:"
   ]
  },
  {
   "cell_type": "code",
   "execution_count": 6,
   "id": "49340240-afeb-4e6c-b620-74bac687b849",
   "metadata": {},
   "outputs": [
    {
     "data": {
      "image/png": "[encoded data removed]",
      "text/plain": [
       "<Figure size 640x480 with 1 Axes>"
      ]
     },
     "metadata": {},
     "output_type": "display_data"
    },
    {
     "data": {
      "text/plain": [
       "<Axes: xlabel='reading score', ylabel='Count'>"
      ]
     },
     "execution_count": 6,
     "metadata": {},
     "output_type": "execute_result"
    },
    {
     "data": {
      "image/png": "[encoded data removed]",
      "text/plain": [
       "<Figure size 640x480 with 1 Axes>"
      ]
     },
     "metadata": {},
     "output_type": "display_data"
    }
   ],
   "source": [
    "import seaborn as sns\n",
    "import matplotlib.pyplot as plt\n",
    "\n",
    "# Example: Compare scores by gender\n",
    "sns.boxplot(x='gender', y='math score', data=df)\n",
    "plt.title('Math Score by Gender')\n",
    "plt.show()\n",
    "\n",
    "# Example: Distribution of reading scores\n",
    "sns.histplot(df['reading score'], kde=True)"
   ]
  },
  {
   "cell_type": "raw",
   "id": "23962ffa-56aa-43cd-8951-3245620bfc11",
   "metadata": {},
   "source": [
    "📝 Tip: Use bar plots, box plots, histograms. Always label axes, titles, legends."
   ]
  },
  {
   "cell_type": "raw",
   "id": "b4c30d8a-8c99-4b52-8134-990645a87864",
   "metadata": {},
   "source": [
    "🧠 Summarized Key Insights:\n",
    "\n",
    ">Test Preparation Helps:\n",
    "Students who completed the test preparation course scored significantly higher in all subjects, especially in reading and writing.\n",
    "\n",
    ">Gender Differences in Scores:\n",
    "On average, males scored higher in Math, while females performed better in Reading and Writing.\n",
    "\n",
    ">Lunch Type Matters:\n",
    "Students with standard lunch had better performance than those with free/reduced lunch, suggesting a link between nutrition and exam scores.\n",
    "\n",
    ">Parental Education Impact:\n",
    "Students whose parents had higher education levels (bachelor’s or master’s degree) tended to score better across all subjects.\n",
    "\n",
    ">Math Scores Have Wide Variation:\n",
    "Math scores showed greater variability compared to reading and writing, indicating different levels of mathematical ability among students."
   ]
  }
 ],
 "metadata": {
  "kernelspec": {
   "display_name": "Python [conda env:base] *",
   "language": "python",
   "name": "conda-base-py"
  },
  "language_info": {
   "codemirror_mode": {
    "name": "ipython",
    "version": 3
   },
   "file_extension": ".py",
   "mimetype": "text/x-python",
   "name": "python",
   "nbconvert_exporter": "python",
   "pygments_lexer": "ipython3",
   "version": "3.13.5"
  }
 },
 "nbformat": 4,
 "nbformat_minor": 5
}
